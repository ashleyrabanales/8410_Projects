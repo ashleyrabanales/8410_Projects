#%%
a = list(range(1, 100))
b = list(range(10, 100))
c = [5, 15, 25]
items = [a, b, c]

#%%
for i in items:
    for j in i:
        if j == 88:
            print("AA")
        if j ==10:
            print("BB")
        if j == 5:
            print("CC")
# %%

# the last print will  be CC
the first print will b